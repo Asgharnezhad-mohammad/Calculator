{
  "nbformat": 4,
  "nbformat_minor": 0,
  "metadata": {
    "colab": {
      "name": "Calculations whit class.ipynb",
      "provenance": [],
      "collapsed_sections": [],
      "authorship_tag": "ABX9TyOrA1t5Z0HW9xXFPO65I06a",
      "include_colab_link": true
    },
    "kernelspec": {
      "name": "python3",
      "display_name": "Python 3"
    },
    "language_info": {
      "name": "python"
    }
  },
  "cells": [
    {
      "cell_type": "markdown",
      "metadata": {
        "id": "view-in-github",
        "colab_type": "text"
      },
      "source": [
        "<a href=\"https://colab.research.google.com/github/Mohasg77/Calculator/blob/main/Calculations_whit_class.ipynb\" target=\"_parent\"><img src=\"https://colab.research.google.com/assets/colab-badge.svg\" alt=\"Open In Colab\"/></a>"
      ]
    },
    {
      "cell_type": "code",
      "metadata": {
        "id": "Z8LUQ4S3cgkP"
      },
      "source": [
        "class shape:\n",
        "  def __init__(self, x, y):\n",
        "    self.x = x\n",
        "    self.y = y\n",
        "  \n",
        "  def s(self):\n",
        "    return self.x * self.y\n",
        "  \n",
        "  def p(self):\n",
        "    return 2*(self.x + self.y)\n",
        "shape(2,5)\n",
        "shape(2,5).p()\n"
      ],
      "execution_count": null,
      "outputs": []
    },
    {
      "cell_type": "code",
      "metadata": {
        "id": "k7KA8-lieABC"
      },
      "source": [
        "class square(shape): \n",
        "  def __init__(self, x):\n",
        "    self.x = x\n",
        "    self.y = x\n",
        "  \n",
        "  def xxx(self):\n",
        "    return self.x\n",
        "\n",
        "  def s(self):\n",
        "    return self.x ** 3\n",
        "\n",
        "square(5).s()"
      ],
      "execution_count": null,
      "outputs": []
    }
  ]
}