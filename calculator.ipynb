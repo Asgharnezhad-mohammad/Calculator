{
  "nbformat": 4,
  "nbformat_minor": 0,
  "metadata": {
    "colab": {
      "name": "calculator.ipynb",
      "provenance": [],
      "collapsed_sections": [],
      "authorship_tag": "ABX9TyPnIs5gAvHBlR3KDAXHJAMR",
      "include_colab_link": true
    },
    "kernelspec": {
      "name": "python3",
      "display_name": "Python 3"
    },
    "language_info": {
      "name": "python"
    }
  },
  "cells": [
    {
      "cell_type": "markdown",
      "metadata": {
        "id": "view-in-github",
        "colab_type": "text"
      },
      "source": [
        "<a href=\"https://colab.research.google.com/github/Mohasg77/Calculator/blob/main/calculator.ipynb\" target=\"_parent\"><img src=\"https://colab.research.google.com/assets/colab-badge.svg\" alt=\"Open In Colab\"/></a>"
      ]
    },
    {
      "cell_type": "markdown",
      "metadata": {
        "id": "6qDY7IVN3hXU"
      },
      "source": [
        "# ***و یک برنامه ساده dict توضیح یک ماشین حساب با استفاده از دستور #***\n",
        "\n"
      ]
    },
    {
      "cell_type": "code",
      "metadata": {
        "id": "sio2DkFNx_bT"
      },
      "source": [
        "import numpy as np\n",
        "x = input(\"enter a function : \")\n",
        "a = float(input(\"value of function : \"))\n",
        "d = {\n",
        "    \"e\" : np.exp(a),\n",
        "    \"sin\": np.sin(a),\n",
        "    \"cos\": np.cos(a),\n",
        "    \"cosh\": np.cosh(a),\n",
        "    \"sinh\": np.sinh(a),\n",
        "    \"tan\": np.tan(a)\n",
        "}\n",
        "if d.get(x ,False):\n",
        "  print(d[x])\n",
        "else:\n",
        "  print(\"your oprator is False\")\n"
      ],
      "execution_count": null,
      "outputs": []
    },
    {
      "cell_type": "code",
      "metadata": {
        "id": "eqgDYs3K3j_2"
      },
      "source": [
        "# with dict\n",
        "x = float(input(\"Enter the number 1: \"))\n",
        "y = float(input(\"Enter the number 2: \"))\n",
        "a = input(\"Enter your opratoin: \")\n",
        "\n",
        "d = {\n",
        "    \"+\" : x + y ,\n",
        "    \"-\" : x - y ,\n",
        "    \"*\" : x * y ,\n",
        "    \"/\" : x / y ,\n",
        "    \"^\" : x ** y ,\n",
        "    \"%\" : x % y\n",
        "    }\n",
        "if d.get(a ,False):\n",
        "  print(d[a])\n",
        "else:\n",
        "  print(\"your oprator is False\")"
      ],
      "execution_count": null,
      "outputs": []
    },
    {
      "cell_type": "code",
      "metadata": {
        "id": "RkYgxXpn3bTI"
      },
      "source": [
        "# with if\n",
        "\n",
        "x = float(input(\"Enter the number 1: \"))\n",
        "y = float(input(\"Enter the number 2: \"))\n",
        "a = input(\"Enter your opratoin\")\n",
        "\n",
        "if a == \"+\":\n",
        "  print(x + y)\n",
        "elif a == \"-\":\n",
        "  print(x - y)\n",
        "elif a == \"*\":\n",
        "  print(x * y)\n",
        "elif a == \"/\":\n",
        "  print(x / y)\n",
        "elif a == \"^\":\n",
        "  print(x ** y)\n",
        "elif a == \"%\":\n",
        "  print(x % y)\n",
        "else:\n",
        "  print(\"your oprator is False\")  \n"
      ],
      "execution_count": null,
      "outputs": []
    }
  ]
}