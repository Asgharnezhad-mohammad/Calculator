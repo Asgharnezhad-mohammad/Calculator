{
  "nbformat": 4,
  "nbformat_minor": 0,
  "metadata": {
    "colab": {
      "name": "engineering calculator .ipynb",
      "provenance": [],
      "collapsed_sections": [],
      "authorship_tag": "ABX9TyOxl2N4lVYot+mjLOtGrHO2",
      "include_colab_link": true
    },
    "kernelspec": {
      "name": "python3",
      "display_name": "Python 3"
    },
    "language_info": {
      "name": "python"
    }
  },
  "cells": [
    {
      "cell_type": "markdown",
      "metadata": {
        "id": "view-in-github",
        "colab_type": "text"
      },
      "source": [
        "<a href=\"https://colab.research.google.com/github/Mohasg77/Calculator/blob/main/engineering_calculator_.ipynb\" target=\"_parent\"><img src=\"https://colab.research.google.com/assets/colab-badge.svg\" alt=\"Open In Colab\"/></a>"
      ]
    },
    {
      "cell_type": "code",
      "execution_count": 4,
      "metadata": {
        "colab": {
          "base_uri": "https://localhost:8080/"
        },
        "id": "d5AWb1dcxPKV",
        "outputId": "9ff370a7-8ce2-488a-c4fc-2b23dd19bb09"
      },
      "outputs": [
        {
          "name": "stdout",
          "output_type": "stream",
          "text": [
            "Enter a number : 5\n"
          ]
        }
      ],
      "source": [
        "import numpy as np\n",
        "\n",
        "n = int(input(\"Enter a number : \"))\n",
        "a = []\n",
        "\n",
        "for i in range(n):\n",
        "  a.append(i)\n",
        "b = np.array(a)\n",
        "c = 0.5"
      ]
    },
    {
      "cell_type": "code",
      "source": [
        "x = input(\"Enter A function : \")\n",
        "d = {\n",
        "    \"sin\" : np.sin(n),\n",
        "    \"cos\" : np.cos(n),\n",
        "    \"tan\" : np.tan(n),\n",
        "    \"average\" : np.average(b),\n",
        "    \"power\" : np.power(n ,2),\n",
        "    \"mean\" : np.mean(b),\n",
        "    \"median\" : np.median(b),\n",
        "    \"quantile\" : np.quantile(b ,c),\n",
        "    \"log\" : np.log(n),\n",
        "    \"arctan\" : np.arctan(n),\n",
        "    \"var\" : np.var(b)\n",
        "    }\n",
        "if d.get(x ,False):\n",
        "  print(x ,\" : \" ,d[x])\n",
        "else:\n",
        "  print(\"This function is not exist\")"
      ],
      "metadata": {
        "id": "SLs2A50ccimQ",
        "colab": {
          "base_uri": "https://localhost:8080/"
        },
        "outputId": "46948322-4ff9-4a79-b236-41cd702e0084"
      },
      "execution_count": 12,
      "outputs": [
        {
          "output_type": "stream",
          "name": "stdout",
          "text": [
            "Enter A function : var\n",
            "var  :  2.0\n"
          ]
        }
      ]
    }
  ]
}