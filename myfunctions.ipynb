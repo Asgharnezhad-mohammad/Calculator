{
  "nbformat": 4,
  "nbformat_minor": 0,
  "metadata": {
    "colab": {
      "name": "myfunctions.ipynb",
      "provenance": [],
      "authorship_tag": "ABX9TyOxX+m1D6uKLuxc+tKiMNtR",
      "include_colab_link": true
    },
    "kernelspec": {
      "name": "python3",
      "display_name": "Python 3"
    },
    "language_info": {
      "name": "python"
    }
  },
  "cells": [
    {
      "cell_type": "markdown",
      "metadata": {
        "id": "view-in-github",
        "colab_type": "text"
      },
      "source": [
        "<a href=\"https://colab.research.google.com/github/Mohasg77/Calculator/blob/main/myfunctions.ipynb\" target=\"_parent\"><img src=\"https://colab.research.google.com/assets/colab-badge.svg\" alt=\"Open In Colab\"/></a>"
      ]
    },
    {
      "cell_type": "code",
      "metadata": {
        "id": "QzNtzIDa5wYX"
      },
      "source": [
        "def max3(a, b, c):\n",
        "  if a>b and a>c:\n",
        "    return a\n",
        "  elif b>a and b>c:\n",
        "    return b\n",
        "  else:\n",
        "    return c\n",
        "max3(20, 15, 42)"
      ],
      "execution_count": null,
      "outputs": []
    },
    {
      "cell_type": "code",
      "metadata": {
        "id": "FywNl4QEAVh9"
      },
      "source": [
        "def kamel(a):\n",
        "  maghsom = []\n",
        "  sum = 0\n",
        "  for i in range(1,(a//2)+1):\n",
        "    if a%i == 0 :\n",
        "      maghsom.append(i)\n",
        "      sum = sum + i\n",
        "  maghsom.append(a)\n",
        "  if sum == a :\n",
        "    return True ,maghsom\n",
        "  else:\n",
        "    return False ,maghsom\n",
        "kamel(60)"
      ],
      "execution_count": null,
      "outputs": []
    },
    {
      "cell_type": "code",
      "metadata": {
        "id": "w-JWM33jDRCX"
      },
      "source": [
        "def aval(x):\n",
        "  counter = 0\n",
        "  for i in range(2,(x//2)+1):\n",
        "    if x%i == 0:\n",
        "      counter +=1\n",
        "  if counter != 0:\n",
        "    return False,\"aval nis \"\n",
        "  return True, \"aval ast \"\n",
        "aval(31)"
      ],
      "execution_count": null,
      "outputs": []
    },
    {
      "cell_type": "code",
      "metadata": {
        "id": "YBVAGVwLPnpq"
      },
      "source": [
        "def fact(x):\n",
        "  f = 1\n",
        "  while(x!=1):\n",
        "    f *=x\n",
        "    x -=1\n",
        "  return f\n",
        "fact(5)"
      ],
      "execution_count": null,
      "outputs": []
    },
    {
      "cell_type": "code",
      "metadata": {
        "id": "2rpgm8zNRoCA"
      },
      "source": [
        "def bmm(x,y):\n",
        "  while(y != 0):\n",
        "    z = x//y\n",
        "    x, y = y, x-(y*z)\n",
        "  return x"
      ],
      "execution_count": null,
      "outputs": []
    },
    {
      "cell_type": "code",
      "metadata": {
        "id": "xOmcpKohRp_m"
      },
      "source": [
        "def kmm(x,y):\n",
        "  return (x*y)//bmm(x,y)"
      ],
      "execution_count": null,
      "outputs": []
    },
    {
      "cell_type": "code",
      "metadata": {
        "id": "dNQZVubzRqKw"
      },
      "source": [
        "def argham(number):\n",
        "  counter = 0\n",
        "  while(number != 0):\n",
        "    counter +=1\n",
        "    number = number // 10\n",
        "  return counter"
      ],
      "execution_count": null,
      "outputs": []
    },
    {
      "cell_type": "code",
      "metadata": {
        "id": "FMaipnKwTxWg"
      },
      "source": [
        "def jam_adad(number):\n",
        "  sum = 0\n",
        "  while(number != 0):\n",
        "    sum += number%10\n",
        "    number = number // 10\n",
        "  return sum\n",
        "jam_adad(2500)\n"
      ],
      "execution_count": null,
      "outputs": []
    }
  ]
}